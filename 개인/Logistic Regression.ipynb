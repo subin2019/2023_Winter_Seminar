{
 "cells": [
  {
   "cell_type": "code",
   "execution_count": 189,
   "id": "34ef7746",
   "metadata": {},
   "outputs": [],
   "source": [
    "import pandas as pd\n",
    "import numpy as np\n",
    "import matplotlib.pyplot as plt \n",
    "import seaborn as sns\n",
    "import plotly.express as px\n",
    "import random\n",
    "import warnings\n",
    "warnings.filterwarnings(\"ignore\")\n",
    "\n",
    "from sklearn.model_selection import *\n",
    "from sklearn.experimental import enable_halving_search_cv\n",
    "from sklearn.model_selection import HalvingGridSearchCV\n",
    "from math import floor\n",
    "from sklearn.linear_model import LogisticRegression\n",
    "from sklearn import datasets\n",
    "from sklearn.preprocessing import MinMaxScaler\n",
    "from sklearn.metrics import f1_score, classification_report\n",
    "from imblearn.over_sampling import SMOTE"
   ]
  },
  {
   "cell_type": "code",
   "execution_count": 190,
   "id": "cff55aa1",
   "metadata": {},
   "outputs": [],
   "source": [
    "train = pd.read_csv(\"C:/Users/subin/OneDrive - g.skku.edu/문서/P-SAT/2023 겨울방학세미나/train.csv/train.csv\")\n",
    "test = pd.read_csv(\"C:/Users/subin/OneDrive - g.skku.edu/문서/P-SAT/2023 겨울방학세미나/test.csv/test.csv\")\n",
    "submission = pd.read_csv(\"C:/Users/subin/OneDrive - g.skku.edu/문서/P-SAT/2023 겨울방학세미나/sample_submission.csv\")"
   ]
  },
  {
   "cell_type": "code",
   "execution_count": 191,
   "id": "5a455ec1",
   "metadata": {},
   "outputs": [],
   "source": [
    "X = train.drop(columns=['ID_code', 'target'], axis=1)\n",
    "y = train['target']"
   ]
  },
  {
   "cell_type": "code",
   "execution_count": 192,
   "id": "c3b8e774",
   "metadata": {},
   "outputs": [],
   "source": [
    "test_df = test.drop(columns=['ID_code'])"
   ]
  },
  {
   "cell_type": "code",
   "execution_count": 193,
   "id": "6a99ca61",
   "metadata": {},
   "outputs": [],
   "source": [
    "X_train, X_test, y_train, y_test = train_test_split(X, y, test_size=0.3, random_state = 0)"
   ]
  },
  {
   "cell_type": "markdown",
   "id": "6a28e6a8",
   "metadata": {},
   "source": [
    "**SMOTE**"
   ]
  },
  {
   "cell_type": "code",
   "execution_count": 194,
   "id": "cbd9d13f",
   "metadata": {},
   "outputs": [],
   "source": [
    "smote = SMOTE(sampling_strategy='minority', random_state=0)\n",
    "X_train_over, y_train_over = smote.fit_resample(X_train,y_train)\n",
    "X_test_over, y_test_over = smote.fit_resample(X_test,y_test)"
   ]
  },
  {
   "cell_type": "code",
   "execution_count": 195,
   "id": "4d8fc2e7",
   "metadata": {},
   "outputs": [
    {
     "name": "stdout",
     "output_type": "stream",
     "text": [
      "SMOTE 적용 전 학습용 피처/레이블 데이터 세트:  (112000, 200) (112000,)\n",
      "SMOTE 적용 후 학습용 피처/레이블 데이터 세트:  (201616, 200) (201616,)\n",
      "SMOTE 적용 전 값의 분포 :\n",
      " 0    100808\n",
      "1     11192\n",
      "Name: target, dtype: int64\n",
      "SMOTE 적용 후 값의 분포 :\n",
      " 0    100808\n",
      "1    100808\n",
      "Name: target, dtype: int64\n"
     ]
    }
   ],
   "source": [
    "print('SMOTE 적용 전 학습용 피처/레이블 데이터 세트: ', X_train.shape, y_train.shape)\n",
    "print('SMOTE 적용 후 학습용 피처/레이블 데이터 세트: ', X_train_over.shape, y_train_over.shape)\n",
    "print('SMOTE 적용 전 값의 분포 :\\n',pd.Series(y_train).value_counts())\n",
    "print('SMOTE 적용 후 값의 분포 :\\n',pd.Series(y_train_over).value_counts())"
   ]
  },
  {
   "cell_type": "code",
   "execution_count": 196,
   "id": "7444360c",
   "metadata": {},
   "outputs": [],
   "source": [
    "X_train = X_train_over.copy()\n",
    "X_test = X_test_over.copy()\n",
    "y_train = y_train_over.copy()\n",
    "y_test = y_test_over.copy()"
   ]
  },
  {
   "cell_type": "markdown",
   "id": "aa25a48b",
   "metadata": {},
   "source": [
    "**Feature Scaling**"
   ]
  },
  {
   "cell_type": "code",
   "execution_count": 197,
   "id": "53302781",
   "metadata": {},
   "outputs": [],
   "source": [
    "cols = X_train.columns"
   ]
  },
  {
   "cell_type": "code",
   "execution_count": 198,
   "id": "f9163668",
   "metadata": {},
   "outputs": [],
   "source": [
    "scaler = MinMaxScaler()\n",
    "X_train = scaler.fit_transform(X_train_over)\n",
    "X_test = scaler.transform(X_test)"
   ]
  },
  {
   "cell_type": "code",
   "execution_count": 199,
   "id": "52a014d0",
   "metadata": {},
   "outputs": [],
   "source": [
    "X_train = pd.DataFrame(X_train, columns=[cols])"
   ]
  },
  {
   "cell_type": "code",
   "execution_count": 200,
   "id": "37b6299e",
   "metadata": {},
   "outputs": [],
   "source": [
    "X_test = pd.DataFrame(X_test, columns=[cols])"
   ]
  },
  {
   "cell_type": "markdown",
   "id": "13cf5af5",
   "metadata": {},
   "source": [
    "Logistic Regression (Halving Grid Search CV)"
   ]
  },
  {
   "cell_type": "code",
   "execution_count": 34,
   "id": "c2c70147",
   "metadata": {},
   "outputs": [],
   "source": [
    "solvers = ['saga']\n",
    "penalty = ['l1', 'l2', 'none']\n",
    "c_values = [100,10,1.0,0.1,0.01]"
   ]
  },
  {
   "cell_type": "code",
   "execution_count": 35,
   "id": "b1c0d471",
   "metadata": {},
   "outputs": [
    {
     "name": "stdout",
     "output_type": "stream",
     "text": [
      "n_iterations: 3\n",
      "n_required_iterations: 3\n",
      "n_possible_iterations: 3\n",
      "min_resources_: 25586\n",
      "max_resources_: 230276\n",
      "aggressive_elimination: False\n",
      "factor: 3\n",
      "----------\n",
      "iter: 0\n",
      "n_candidates: 15\n",
      "n_resources: 25586\n",
      "Fitting 10 folds for each of 15 candidates, totalling 150 fits\n",
      "----------\n",
      "iter: 1\n",
      "n_candidates: 5\n",
      "n_resources: 76758\n",
      "Fitting 10 folds for each of 5 candidates, totalling 50 fits\n",
      "----------\n",
      "iter: 2\n",
      "n_candidates: 2\n",
      "n_resources: 230274\n",
      "Fitting 10 folds for each of 2 candidates, totalling 20 fits\n"
     ]
    }
   ],
   "source": [
    "model = LogisticRegression()\n",
    "grid = dict(solver=solvers, penalty=penalty, C=c_values)\n",
    "cv = KFold(n_splits = 10)\n",
    "grid_search = HalvingGridSearchCV(estimator=model, param_grid=grid, n_jobs=-1, cv=cv, scoring='f1', verbose=10)\n",
    "grid_result = grid_search.fit(X_train, y_train)"
   ]
  },
  {
   "cell_type": "code",
   "execution_count": 36,
   "id": "4303810a",
   "metadata": {},
   "outputs": [
    {
     "name": "stdout",
     "output_type": "stream",
     "text": [
      "{'C': 1.0, 'penalty': 'none', 'solver': 'saga'}\n"
     ]
    }
   ],
   "source": [
    "print(grid_result.best_params_)"
   ]
  },
  {
   "cell_type": "code",
   "execution_count": 118,
   "id": "4b7bc1fe",
   "metadata": {},
   "outputs": [
    {
     "data": {
      "text/plain": [
       "LogisticRegression(penalty='none', solver='saga')"
      ]
     },
     "execution_count": 118,
     "metadata": {},
     "output_type": "execute_result"
    }
   ],
   "source": [
    "log_model = LogisticRegression(C=1.0, penalty='none', solver='saga')\n",
    "log_model.fit(X_train, y_train)"
   ]
  },
  {
   "cell_type": "code",
   "execution_count": 119,
   "id": "120405f7",
   "metadata": {},
   "outputs": [],
   "source": [
    "y_pred = log_model.predict(X_test)"
   ]
  },
  {
   "cell_type": "code",
   "execution_count": 120,
   "id": "bf9efa76",
   "metadata": {},
   "outputs": [
    {
     "name": "stdout",
     "output_type": "stream",
     "text": [
      "              precision    recall  f1-score   support\n",
      "\n",
      "           0       0.97      0.79      0.87     43262\n",
      "           1       0.28      0.77      0.41      4738\n",
      "\n",
      "    accuracy                           0.78     48000\n",
      "   macro avg       0.63      0.78      0.64     48000\n",
      "weighted avg       0.90      0.78      0.82     48000\n",
      "\n"
     ]
    }
   ],
   "source": [
    "print(classification_report(y_test, y_pred))"
   ]
  },
  {
   "cell_type": "code",
   "execution_count": 121,
   "id": "1846bff1",
   "metadata": {},
   "outputs": [
    {
     "name": "stdout",
     "output_type": "stream",
     "text": [
      "0.41402394054575364\n"
     ]
    }
   ],
   "source": [
    "print(f1_score(y_test, y_pred))"
   ]
  },
  {
   "cell_type": "markdown",
   "id": "930e855e",
   "metadata": {},
   "source": [
    "Logistic Regression"
   ]
  },
  {
   "cell_type": "code",
   "execution_count": 201,
   "id": "84cf23bd",
   "metadata": {},
   "outputs": [
    {
     "data": {
      "text/plain": [
       "LogisticRegression()"
      ]
     },
     "execution_count": 201,
     "metadata": {},
     "output_type": "execute_result"
    }
   ],
   "source": [
    "log_model = LogisticRegression()\n",
    "log_model.fit(X_train, y_train)"
   ]
  },
  {
   "cell_type": "code",
   "execution_count": 202,
   "id": "9059d674",
   "metadata": {},
   "outputs": [],
   "source": [
    "y_pred = log_model.predict(X_test)"
   ]
  },
  {
   "cell_type": "code",
   "execution_count": 203,
   "id": "ca74793f",
   "metadata": {},
   "outputs": [
    {
     "name": "stdout",
     "output_type": "stream",
     "text": [
      "              precision    recall  f1-score   support\n",
      "\n",
      "           0       0.80      0.79      0.79     43114\n",
      "           1       0.79      0.80      0.80     43114\n",
      "\n",
      "    accuracy                           0.80     86228\n",
      "   macro avg       0.80      0.80      0.80     86228\n",
      "weighted avg       0.80      0.80      0.80     86228\n",
      "\n"
     ]
    }
   ],
   "source": [
    "print(classification_report(y_test, y_pred))"
   ]
  },
  {
   "cell_type": "code",
   "execution_count": 205,
   "id": "606399d0",
   "metadata": {},
   "outputs": [
    {
     "name": "stdout",
     "output_type": "stream",
     "text": [
      "0.7964366900912752\n"
     ]
    }
   ],
   "source": [
    "print(f1_score(y_test, y_pred))"
   ]
  },
  {
   "cell_type": "markdown",
   "id": "a02bf809",
   "metadata": {},
   "source": [
    "Logistic Regression with Lasso penalty"
   ]
  },
  {
   "cell_type": "code",
   "execution_count": 122,
   "id": "5a753006",
   "metadata": {},
   "outputs": [],
   "source": [
    "log_clf = LogisticRegression(penalty= 'l1', solver= 'saga', random_state=42)"
   ]
  },
  {
   "cell_type": "code",
   "execution_count": 123,
   "id": "7b57bca0",
   "metadata": {},
   "outputs": [
    {
     "data": {
      "text/plain": [
       "LogisticRegression(penalty='l1', random_state=42, solver='saga')"
      ]
     },
     "execution_count": 123,
     "metadata": {},
     "output_type": "execute_result"
    }
   ],
   "source": [
    "log_clf.fit(X_train, y_train)"
   ]
  },
  {
   "cell_type": "code",
   "execution_count": 124,
   "id": "ce0080ad",
   "metadata": {},
   "outputs": [],
   "source": [
    "y_pred = log_clf.predict(X_test)"
   ]
  },
  {
   "cell_type": "code",
   "execution_count": 125,
   "id": "dc2d9567",
   "metadata": {},
   "outputs": [
    {
     "name": "stdout",
     "output_type": "stream",
     "text": [
      "              precision    recall  f1-score   support\n",
      "\n",
      "           0       0.97      0.79      0.87     43262\n",
      "           1       0.28      0.77      0.41      4738\n",
      "\n",
      "    accuracy                           0.78     48000\n",
      "   macro avg       0.63      0.78      0.64     48000\n",
      "weighted avg       0.90      0.78      0.82     48000\n",
      "\n"
     ]
    }
   ],
   "source": [
    "print(classification_report(y_test, y_pred))"
   ]
  },
  {
   "cell_type": "code",
   "execution_count": 126,
   "id": "d07a80b7",
   "metadata": {},
   "outputs": [
    {
     "name": "stdout",
     "output_type": "stream",
     "text": [
      "0.41397696976572695\n"
     ]
    }
   ],
   "source": [
    "print(f1_score(y_test, y_pred))"
   ]
  },
  {
   "cell_type": "code",
   "execution_count": 60,
   "id": "fd8806d6",
   "metadata": {},
   "outputs": [],
   "source": [
    "predict_log = log.predict(test_df)"
   ]
  },
  {
   "cell_type": "code",
   "execution_count": 61,
   "id": "f206a60c",
   "metadata": {},
   "outputs": [],
   "source": [
    "submission = pd.DataFrame({\"ID_code\":submission['ID_code'],\n",
    "                         \"target\":predict_log})"
   ]
  },
  {
   "cell_type": "code",
   "execution_count": 66,
   "id": "1ad0c633",
   "metadata": {},
   "outputs": [],
   "source": [
    "submission.to_csv('submission_log.csv',index=False)"
   ]
  }
 ],
 "metadata": {
  "kernelspec": {
   "display_name": "Python 3 (ipykernel)",
   "language": "python",
   "name": "python3"
  },
  "language_info": {
   "codemirror_mode": {
    "name": "ipython",
    "version": 3
   },
   "file_extension": ".py",
   "mimetype": "text/x-python",
   "name": "python",
   "nbconvert_exporter": "python",
   "pygments_lexer": "ipython3",
   "version": "3.9.13"
  }
 },
 "nbformat": 4,
 "nbformat_minor": 5
}
